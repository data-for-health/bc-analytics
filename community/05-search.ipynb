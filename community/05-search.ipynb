{
 "cells": [
  {
   "cell_type": "code",
   "execution_count": 1,
   "id": "ba15b864",
   "metadata": {},
   "outputs": [],
   "source": [
    "from tqdm.auto import tqdm\n",
    "from sentence_transformers import SentenceTransformer"
   ]
  },
  {
   "cell_type": "code",
   "execution_count": 2,
   "id": "b6da7ec0",
   "metadata": {},
   "outputs": [],
   "source": [
    "model_name = \"Snowflake/snowflake-arctic-embed-l-v2.0\"\n",
    "model = SentenceTransformer(model_name, trust_remote_code=True)"
   ]
  },
  {
   "cell_type": "code",
   "execution_count": 3,
   "id": "1a5375ca",
   "metadata": {},
   "outputs": [],
   "source": [
    "import json\n",
    "with open(\"embed_sentences-2020.json\", \"r\") as f:\n",
    "    es = json.loads(f.read())"
   ]
  },
  {
   "cell_type": "code",
   "execution_count": 4,
   "id": "d30361ba",
   "metadata": {},
   "outputs": [],
   "source": [
    "import numpy as np\n",
    "with open(\"embed_sentences-2020.npy\", \"rb\") as f:\n",
    "    embeddings = np.load(f)"
   ]
  },
  {
   "cell_type": "code",
   "execution_count": 5,
   "id": "b02cf236",
   "metadata": {},
   "outputs": [],
   "source": [
    "def search(query, top=5):\n",
    "    qe = model.encode(query, prompt_name=\"query\")\n",
    "    similarities = model.similarity(qe, embeddings).flatten().numpy()\n",
    "    return [es[i] for i in similarities.argsort()[::-1][0:top]]"
   ]
  },
  {
   "cell_type": "code",
   "execution_count": 6,
   "id": "31658cab-7eb4-424b-ade1-0c9ab1f1e799",
   "metadata": {},
   "outputs": [],
   "source": [
    "import pandas as pd\n",
    "from IPython.display import HTML\n",
    "pd.set_option('display.max_colwidth', 0)\n",
    "def search_table(query, top=5):\n",
    "    df = pd.DataFrame(search(query, top))\n",
    "    df[\"url\"] = df[\"url\"].apply(lambda x: f'<a href=\"{x}\">Link</a>')\n",
    "\n",
    "    return HTML(df[[\"text\", \"url\"]].to_html(render_links=True, escape=False))"
   ]
  },
  {
   "cell_type": "code",
   "execution_count": 7,
   "id": "74c05f29-da4e-4fa1-94bf-72f132f0560d",
   "metadata": {},
   "outputs": [
    {
     "data": {
      "text/html": [
       "<table border=\"1\" class=\"dataframe\">\n",
       "  <thead>\n",
       "    <tr style=\"text-align: right;\">\n",
       "      <th></th>\n",
       "      <th>text</th>\n",
       "      <th>url</th>\n",
       "    </tr>\n",
       "  </thead>\n",
       "  <tbody>\n",
       "    <tr>\n",
       "      <th>0</th>\n",
       "      <td>In the end, it's just take it every other day. I don't condone or recommend this. It's just what I did.</td>\n",
       "      <td><a href=\"https://community.breastcancer.org/en/discussion/884906/extreme-fatigue-on-arimidex/p2#Comment_5873142\">Link</a></td>\n",
       "    </tr>\n",
       "    <tr>\n",
       "      <th>1</th>\n",
       "      <td>Oldladyblue, I am another that doesn't generally take meds. I am on thyroid med(I swear it was caused by radiation( but dr poo pood that idea )but otherwise I try to take calcium and vit D once a day. They are hard to swallow so I generally only get to it 4 days a week. As everyone knows its a crapshoot.</td>\n",
       "      <td><a href=\"https://community.breastcancer.org/en/discussion/872551/has-anyone-quit-or-reduced-dosage-of-the-hormonal-therapy/p31#Comment_5822477\">Link</a></td>\n",
       "    </tr>\n",
       "    <tr>\n",
       "      <th>2</th>\n",
       "      <td>I'm taking mine every other day as well. As much as I fuss and say I'm not going to take it at all, I eventually scare myself into taking it again. Every other day will have to do though, as I can't handle it every day. I'm glad you said that your MO is ok with you taking it every other day.</td>\n",
       "      <td><a href=\"https://community.breastcancer.org/en/discussion/872551/has-anyone-quit-or-reduced-dosage-of-the-hormonal-therapy/p6#Comment_5596203\">Link</a></td>\n",
       "    </tr>\n",
       "    <tr>\n",
       "      <th>3</th>\n",
       "      <td>There are threads that ask about taking an AI every other day. Is that good enough? I question if there is even data to support this effect. No drug company wants you to take a pill every other day when they want you to buy twice as much and take it every day. Little info about this but I hope to find some.</td>\n",
       "      <td><a href=\"https://community.breastcancer.org/en/discussion/872551/has-anyone-quit-or-reduced-dosage-of-the-hormonal-therapy/p17#Comment_5671966\">Link</a></td>\n",
       "    </tr>\n",
       "    <tr>\n",
       "      <th>4</th>\n",
       "      <td>Karen, when I was marching around the house last night, I thought up a food suggestion (which may or may not be helpful). Maybe you should consider food as medicine. When I'm on antibiotics, I set reminders to take my pill every 4 or 6 hours (or however many times a day is recommended). Maybe it would help to set reminders to eat something every so many hours…..whether you are hungry or not…. just eat something with the same mindset that you'd use to take a pill 'I need to do this to get better'. That is just a thought anyway.</td>\n",
       "      <td><a href=\"https://community.breastcancer.org/en/discussion/741082/lets-post-our-daily-exercise/p1477#Comment_5850268\">Link</a></td>\n",
       "    </tr>\n",
       "  </tbody>\n",
       "</table>"
      ],
      "text/plain": [
       "<IPython.core.display.HTML object>"
      ]
     },
     "execution_count": 7,
     "metadata": {},
     "output_type": "execute_result"
    }
   ],
   "source": [
    "search_table(\"Nimmst du deine Medizin regelmäßig?\")"
   ]
  },
  {
   "cell_type": "code",
   "execution_count": 8,
   "id": "2bf43526-0fe6-4c1e-8d6e-dd8d9347682a",
   "metadata": {},
   "outputs": [
    {
     "data": {
      "text/html": [
       "<table border=\"1\" class=\"dataframe\">\n",
       "  <thead>\n",
       "    <tr style=\"text-align: right;\">\n",
       "      <th></th>\n",
       "      <th>text</th>\n",
       "      <th>url</th>\n",
       "    </tr>\n",
       "  </thead>\n",
       "  <tbody>\n",
       "    <tr>\n",
       "      <th>0</th>\n",
       "      <td>I am going to take it every other day. If you find you are urinating more frequently I would consider taking a break from it. What did your doctor say to do?</td>\n",
       "      <td><a href=\"https://community.breastcancer.org/en/discussion/868199/list-of-all-of-the-side-effects-i-deal-with-that-wreak-my-qol/p9#Comment_5577011\">Link</a></td>\n",
       "    </tr>\n",
       "    <tr>\n",
       "      <th>1</th>\n",
       "      <td>I'm taking mine every other day as well. As much as I fuss and say I'm not going to take it at all, I eventually scare myself into taking it again. Every other day will have to do though, as I can't handle it every day. I'm glad you said that your MO is ok with you taking it every other day.</td>\n",
       "      <td><a href=\"https://community.breastcancer.org/en/discussion/872551/has-anyone-quit-or-reduced-dosage-of-the-hormonal-therapy/p6#Comment_5596203\">Link</a></td>\n",
       "    </tr>\n",
       "    <tr>\n",
       "      <th>2</th>\n",
       "      <td>In the end, it's just take it every other day. I don't condone or recommend this. It's just what I did.</td>\n",
       "      <td><a href=\"https://community.breastcancer.org/en/discussion/884906/extreme-fatigue-on-arimidex/p2#Comment_5873142\">Link</a></td>\n",
       "    </tr>\n",
       "    <tr>\n",
       "      <th>3</th>\n",
       "      <td>Oldladyblue, I am another that doesn't generally take meds. I am on thyroid med(I swear it was caused by radiation( but dr poo pood that idea )but otherwise I try to take calcium and vit D once a day. They are hard to swallow so I generally only get to it 4 days a week. As everyone knows its a crapshoot.</td>\n",
       "      <td><a href=\"https://community.breastcancer.org/en/discussion/872551/has-anyone-quit-or-reduced-dosage-of-the-hormonal-therapy/p31#Comment_5822477\">Link</a></td>\n",
       "    </tr>\n",
       "    <tr>\n",
       "      <th>4</th>\n",
       "      <td>I'm pretty concered about being on meds as this is completely new for me. I've had slight nausea but tried eating more for breakfast today when I took the pill so we'll se how the day goes. I think the \"every other day\" discussion is a worthwhile one that I hadn't considered and haven't talked to my MO about. It's hard to decide to just keep on daily dose and deal with little or no side effects or consider going to half dose and what that could or would mean. There are a lot of threads to this question.</td>\n",
       "      <td><a href=\"https://community.breastcancer.org/en/discussion/751768/half-dose-of-femara/p2#Comment_5539307\">Link</a></td>\n",
       "    </tr>\n",
       "  </tbody>\n",
       "</table>"
      ],
      "text/plain": [
       "<IPython.core.display.HTML object>"
      ]
     },
     "execution_count": 8,
     "metadata": {},
     "output_type": "execute_result"
    }
   ],
   "source": [
    "search_table(\"Do you take your medicine regularly?\")"
   ]
  },
  {
   "cell_type": "code",
   "execution_count": null,
   "id": "651c2a11-2e4d-408f-902d-ad3a4f4723cc",
   "metadata": {},
   "outputs": [],
   "source": [
    "search_table(\"under which side effects are patients suffering?\")"
   ]
  },
  {
   "cell_type": "code",
   "execution_count": null,
   "id": "2b65ffed-33b5-403e-885e-b0834a18da9f",
   "metadata": {},
   "outputs": [],
   "source": [
    "search_table(\"How supportive is the nurse?\")"
   ]
  },
  {
   "cell_type": "code",
   "execution_count": null,
   "id": "2316d36b-6657-416e-b55a-0d93f2de2165",
   "metadata": {},
   "outputs": [],
   "source": [
    "search_table(\"How important is the social network?\")"
   ]
  },
  {
   "cell_type": "code",
   "execution_count": null,
   "id": "041d95b8-07eb-48e1-b851-ceb9f6a91fea",
   "metadata": {},
   "outputs": [],
   "source": [
    "search_table(\"How does sport activities support treatment?\")"
   ]
  },
  {
   "cell_type": "code",
   "execution_count": null,
   "id": "8f65d86f-eac4-40d6-8570-701efbb9f8c6",
   "metadata": {},
   "outputs": [],
   "source": [
    "search_table(\"What makes patients confident?\")"
   ]
  },
  {
   "cell_type": "code",
   "execution_count": null,
   "id": "16a150e8-7c6d-45b3-95df-269dae6ac493",
   "metadata": {},
   "outputs": [],
   "source": [
    "search_table(\"How to cope with side effects?\")"
   ]
  },
  {
   "cell_type": "code",
   "execution_count": null,
   "id": "5d89dd59-117c-44dd-8a85-f1ae14ecb057",
   "metadata": {},
   "outputs": [],
   "source": [
    "search_table(\"How does your family support you?\")"
   ]
  },
  {
   "cell_type": "code",
   "execution_count": null,
   "id": "56e9b059-bdcf-454f-9924-218508bfb84d",
   "metadata": {},
   "outputs": [],
   "source": [
    "search_table(\"What makes patients get through the treatment?\")"
   ]
  },
  {
   "cell_type": "code",
   "execution_count": null,
   "id": "d0ec7ae0-6ca4-438c-a89b-64253412901e",
   "metadata": {},
   "outputs": [],
   "source": [
    "search_table(\"What are side effects of Kisqali?\")"
   ]
  },
  {
   "cell_type": "code",
   "execution_count": null,
   "id": "110ea7a2-5997-4a41-aff3-8af2237b4bcc",
   "metadata": {},
   "outputs": [],
   "source": [
    "search_table(\"What are side effects of ribociclib?\")"
   ]
  },
  {
   "cell_type": "code",
   "execution_count": null,
   "id": "556709a1-2f1d-4236-8876-20c1a4ac80fa",
   "metadata": {},
   "outputs": [],
   "source": [
    "search_table(\"Recommendations for nutrition\")"
   ]
  },
  {
   "cell_type": "code",
   "execution_count": null,
   "id": "ed8c4c04-4eb7-4063-82cf-4e2478f4a6be",
   "metadata": {},
   "outputs": [],
   "source": [
    "search_table(\"What are problems of communication with the doctors?\")"
   ]
  }
 ],
 "metadata": {
  "kernelspec": {
   "display_name": "Python 3 (ipykernel)",
   "language": "python",
   "name": "python3"
  },
  "language_info": {
   "codemirror_mode": {
    "name": "ipython",
    "version": 3
   },
   "file_extension": ".py",
   "mimetype": "text/x-python",
   "name": "python",
   "nbconvert_exporter": "python",
   "pygments_lexer": "ipython3",
   "version": "3.12.10"
  }
 },
 "nbformat": 4,
 "nbformat_minor": 5
}
