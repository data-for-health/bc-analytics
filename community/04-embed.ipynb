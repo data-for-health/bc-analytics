{
 "cells": [
  {
   "cell_type": "code",
   "execution_count": null,
   "id": "ba15b864",
   "metadata": {},
   "outputs": [],
   "source": [
    "from tqdm.auto import tqdm\n",
    "from sentence_transformers import SentenceTransformer"
   ]
  },
  {
   "cell_type": "code",
   "execution_count": null,
   "id": "b6da7ec0",
   "metadata": {},
   "outputs": [],
   "source": [
    "model_name = \"Snowflake/snowflake-arctic-embed-l-v2.0\"\n",
    "model = SentenceTransformer(model_name, trust_remote_code=True)"
   ]
  },
  {
   "cell_type": "code",
   "execution_count": null,
   "id": "1a5375ca",
   "metadata": {},
   "outputs": [],
   "source": [
    "import json\n",
    "with open(\"embed_sentences-2020.json\", \"r\") as f:\n",
    "    es = json.loads(f.read())"
   ]
  },
  {
   "cell_type": "code",
   "execution_count": null,
   "id": "ae1e95d7",
   "metadata": {},
   "outputs": [],
   "source": [
    "es[0]"
   ]
  },
  {
   "cell_type": "code",
   "execution_count": null,
   "id": "38d3dcf4",
   "metadata": {},
   "outputs": [],
   "source": [
    "%%time\n",
    "embeddings = model.encode([e[\"text\"] for e in es, show_progress=True)"
   ]
  },
  {
   "cell_type": "code",
   "execution_count": null,
   "id": "536938d6",
   "metadata": {},
   "outputs": [],
   "source": [
    "embeddings.shape"
   ]
  },
  {
   "cell_type": "code",
   "execution_count": null,
   "id": "d30361ba",
   "metadata": {},
   "outputs": [],
   "source": [
    "import numpy as np\n",
    "with open(\"embed_sentences-2020.npy\", \"wb\") as f:\n",
    "    np.save(f, embeddings)"
   ]
  },
  {
   "cell_type": "code",
   "execution_count": null,
   "id": "0e27ee5c-df7f-4540-bf48-978e848398a6",
   "metadata": {},
   "outputs": [],
   "source": [
    "qe = model.encode(\"Nimmst du deine Medizin regelmäßig?\", prompt_name=\"query\")"
   ]
  },
  {
   "cell_type": "code",
   "execution_count": null,
   "id": "a3afc63f",
   "metadata": {},
   "outputs": [],
   "source": [
    "qe = model.encode(\"Do you take your medicine regularly?\", prompt_name=\"query\")"
   ]
  },
  {
   "cell_type": "code",
   "execution_count": null,
   "id": "1da1e281",
   "metadata": {},
   "outputs": [],
   "source": [
    "similarities = model.similarity(qe, embeddings).flatten().numpy()"
   ]
  },
  {
   "cell_type": "code",
   "execution_count": null,
   "id": "52ad1dba",
   "metadata": {},
   "outputs": [],
   "source": [
    "for i in similarities.argsort()[::-1][0:5]:\n",
    "    print(es[i])"
   ]
  }
 ],
 "metadata": {
  "kernelspec": {
   "display_name": "Python 3 (ipykernel)",
   "language": "python",
   "name": "python3"
  },
  "language_info": {
   "codemirror_mode": {
    "name": "ipython",
    "version": 3
   },
   "file_extension": ".py",
   "mimetype": "text/x-python",
   "name": "python",
   "nbconvert_exporter": "python",
   "pygments_lexer": "ipython3",
   "version": "3.12.10"
  }
 },
 "nbformat": 4,
 "nbformat_minor": 5
}
