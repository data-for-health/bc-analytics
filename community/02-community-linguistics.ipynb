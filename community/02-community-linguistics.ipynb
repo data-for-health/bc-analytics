{
 "cells": [
  {
   "cell_type": "code",
   "execution_count": null,
   "id": "02d97819-9dbc-4334-9e69-eb4e049651fc",
   "metadata": {},
   "outputs": [],
   "source": [
    "import pandas as pd"
   ]
  },
  {
   "cell_type": "code",
   "execution_count": null,
   "id": "598cb47f-d7d2-4b8a-9eca-872de1c1daa4",
   "metadata": {},
   "outputs": [],
   "source": [
    "df = pd.read_parquet(\"breastcancer.parquet\")"
   ]
  },
  {
   "cell_type": "code",
   "execution_count": null,
   "id": "b4aaaec5-9959-4223-aaa4-1f8b385f2b1d",
   "metadata": {},
   "outputs": [],
   "source": [
    "len(df)"
   ]
  },
  {
   "cell_type": "code",
   "execution_count": null,
   "id": "0ddb030d-460a-4080-b5ca-bc7cb7f40175",
   "metadata": {},
   "outputs": [],
   "source": [
    "df"
   ]
  },
  {
   "cell_type": "code",
   "execution_count": null,
   "id": "f916be63-9783-419e-816e-48039b4c1d5f",
   "metadata": {},
   "outputs": [],
   "source": [
    "df = df[df[\"time\"].dt.year >= 2020].copy()"
   ]
  },
  {
   "cell_type": "markdown",
   "id": "61ab69a8-1d07-43ec-a361-fc19a71592e7",
   "metadata": {},
   "source": [
    "# Sentence splitting"
   ]
  },
  {
   "cell_type": "code",
   "execution_count": null,
   "id": "1ff9e253-63d3-40ae-a1ad-a11ad419550e",
   "metadata": {},
   "outputs": [],
   "source": [
    "import spacy"
   ]
  },
  {
   "cell_type": "code",
   "execution_count": null,
   "id": "f19ef41b-974c-4845-8067-4b87b076e7ea",
   "metadata": {},
   "outputs": [],
   "source": [
    "!python -m spacy download en_core_web_sm"
   ]
  },
  {
   "cell_type": "code",
   "execution_count": null,
   "id": "a497b3df-51f3-417b-8559-ffe90b79efba",
   "metadata": {},
   "outputs": [],
   "source": [
    "nlp = spacy.load(\"en_core_web_sm\")"
   ]
  },
  {
   "cell_type": "code",
   "execution_count": null,
   "id": "ced80f46-7a8c-44b4-87f0-270beb44e6b2",
   "metadata": {},
   "outputs": [],
   "source": [
    "from tqdm.auto import tqdm\n",
    "df[\"sentences\"] = None\n",
    "\n",
    "df[\"nouns\"] = None\n",
    "df[\"adjectives\"] = None\n",
    "df[\"verbs\"] = None\n",
    "df[\"lemmas\"] = None\n",
    "\n",
    "df[\"entities\"] = None\n",
    "for i, row in tqdm(df.iterrows(), total=len(df)):\n",
    "\n",
    "    nouns = []\n",
    "    adjectives = []\n",
    "    verbs = []\n",
    "    lemmas = []\n",
    "    nav = []\n",
    "\n",
    "    doc = nlp(row[\"title\"] + \".\\n\" + row[\"text\"])\n",
    "    for token in doc:\n",
    "        lemmas.append(token.lemma_)\n",
    "        # noun\n",
    "        if token.pos_ == \"NOUN\" or token.pos_ == \"PROPN\":\n",
    "            nouns.append(token.lemma_)\n",
    "            nav.append(token.lemma_)\n",
    "        # adjective\n",
    "        if token.pos_ == \"ADJ\" or token.pos_ == \"ADV\":\n",
    "            adjectives.append(token.lemma_)\n",
    "            nav.append(token.lemma_)\n",
    "        # verb\n",
    "        if token.pos_ == \"VERB\":\n",
    "            verbs.append(token.lemma_)\n",
    "            nav.append(token.lemma_)\n",
    "\n",
    "    sentences = []\n",
    "    for sentence in doc.sents:\n",
    "        sentences.append(str(sentence).strip())\n",
    "        \n",
    "    df.at[i, \"sentences\"] = \"|\".join(sentences)\n",
    "\n",
    "    df.at[i, \"nouns\"] = \"|\".join(nouns)\n",
    "    df.at[i, \"adjectives\"] = \"|\".join(adjectives)\n",
    "    df.at[i, \"verbs\"] = \"|\".join(verbs)\n",
    "    df.at[i, \"lemmas\"] = \"|\".join(lemmas)\n",
    "\n",
    "    df.at[i, \"entities\"] = \"|\".join([str(e) for e in doc.ents])"
   ]
  },
  {
   "cell_type": "code",
   "execution_count": null,
   "id": "add606a8-f4a7-45cc-a95d-44d5ad6fb725",
   "metadata": {},
   "outputs": [],
   "source": [
    "df.to_parquet(\"breastcancer-linguistics.parquet\", compression=\"zstd\")"
   ]
  },
  {
   "cell_type": "code",
   "execution_count": null,
   "id": "f8ac7cc0-5f9e-4c89-9ab6-f67e4b390fa3",
   "metadata": {},
   "outputs": [],
   "source": []
  }
 ],
 "metadata": {
  "kernelspec": {
   "display_name": "Python 3 (ipykernel)",
   "language": "python",
   "name": "python3"
  },
  "language_info": {
   "codemirror_mode": {
    "name": "ipython",
    "version": 3
   },
   "file_extension": ".py",
   "mimetype": "text/x-python",
   "name": "python",
   "nbconvert_exporter": "python",
   "pygments_lexer": "ipython3",
   "version": "3.12.10"
  }
 },
 "nbformat": 4,
 "nbformat_minor": 5
}
