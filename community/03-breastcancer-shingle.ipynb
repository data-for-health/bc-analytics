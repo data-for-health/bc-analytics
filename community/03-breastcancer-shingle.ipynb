{
 "cells": [
  {
   "cell_type": "code",
   "execution_count": null,
   "id": "5cc35447-4562-4700-bff9-d079341ac781",
   "metadata": {},
   "outputs": [],
   "source": [
    "import pandas as pd"
   ]
  },
  {
   "cell_type": "code",
   "execution_count": null,
   "id": "095af85f-e248-4b95-8a70-4113c91a02e2",
   "metadata": {},
   "outputs": [],
   "source": [
    "df = pd.read_parquet(\"breastcancer-2020-linguistics.parquet\")"
   ]
  },
  {
   "cell_type": "code",
   "execution_count": null,
   "id": "f3023ea1-1227-47b7-95f1-9fd0edb4ead4",
   "metadata": {},
   "outputs": [],
   "source": [
    "len(df)"
   ]
  },
  {
   "cell_type": "code",
   "execution_count": null,
   "id": "f3b6f8ca-346d-4d76-9beb-a4a1cd3590c4",
   "metadata": {},
   "outputs": [],
   "source": [
    "df.iloc[0][\"sentences\"]"
   ]
  },
  {
   "cell_type": "code",
   "execution_count": null,
   "id": "517264f0-091d-4ae3-8039-7a6dc09fef2a",
   "metadata": {},
   "outputs": [],
   "source": [
    "import re\n",
    "from tqdm.auto import tqdm\n",
    "embed_sentences = []\n",
    "for i, row in tqdm(df.iterrows(), total=len(df)):\n",
    "    sentences = row[\"sentences\"].split(\"|\")\n",
    "    url = row[\"url\"]\n",
    "    for i in range(0, len(sentences), 3):\n",
    "        start = max(0, i)\n",
    "        stop = min(start+5, len(sentences))\n",
    "        text = re.sub(\" +\", \" \", \" \".join(sentences[start:stop]).replace(\"\\n\", \" \"))\n",
    "        embed_sentences.append({ \"url\": url, \"text\": text  })\n",
    "        # don't continue if last sentence reached\n",
    "        if stop == len(sentences):\n",
    "            break"
   ]
  },
  {
   "cell_type": "code",
   "execution_count": null,
   "id": "0e4e300d-badf-4bea-a89a-ac71262a3b81",
   "metadata": {},
   "outputs": [],
   "source": [
    "len(embed_sentences)"
   ]
  },
  {
   "cell_type": "code",
   "execution_count": null,
   "id": "b6f60c46-008c-482a-8167-0a31de18ae46",
   "metadata": {},
   "outputs": [],
   "source": [
    "import json\n",
    "with open(\"embed_sentences-2020.json\", \"w\") as f:\n",
    "    f.write(json.dumps(embed_sentences))"
   ]
  }
 ],
 "metadata": {
  "kernelspec": {
   "display_name": "Python 3 (ipykernel)",
   "language": "python",
   "name": "python3"
  },
  "language_info": {
   "codemirror_mode": {
    "name": "ipython",
    "version": 3
   },
   "file_extension": ".py",
   "mimetype": "text/x-python",
   "name": "python",
   "nbconvert_exporter": "python",
   "pygments_lexer": "ipython3",
   "version": "3.12.10"
  }
 },
 "nbformat": 4,
 "nbformat_minor": 5
}
