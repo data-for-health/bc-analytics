{
 "cells": [
  {
   "cell_type": "code",
   "execution_count": 1,
   "id": "02d97819-9dbc-4334-9e69-eb4e049651fc",
   "metadata": {},
   "outputs": [],
   "source": [
    "import pandas as pd"
   ]
  },
  {
   "cell_type": "code",
   "execution_count": 2,
   "id": "add606a8-f4a7-45cc-a95d-44d5ad6fb725",
   "metadata": {},
   "outputs": [],
   "source": [
    "df = pd.read_parquet(\"breastcancer-2020-linguistics.parquet\")"
   ]
  },
  {
   "cell_type": "code",
   "execution_count": 3,
   "id": "a57f0c8e-70e0-4dd7-858d-997f9928f380",
   "metadata": {},
   "outputs": [
    {
     "data": {
      "text/plain": [
       "41812"
      ]
     },
     "execution_count": 3,
     "metadata": {},
     "output_type": "execute_result"
    }
   ],
   "source": [
    "len(df)"
   ]
  },
  {
   "cell_type": "markdown",
   "id": "02f671ad-c60e-4d27-b07a-61c60a89964e",
   "metadata": {},
   "source": [
    "# Topics"
   ]
  },
  {
   "cell_type": "code",
   "execution_count": 4,
   "id": "160b1ab4-7231-4c12-b962-c64870a46aaf",
   "metadata": {},
   "outputs": [],
   "source": [
    "from spacy.lang.en.stop_words import STOP_WORDS as stopwords"
   ]
  },
  {
   "cell_type": "code",
   "execution_count": 5,
   "id": "a561ecf0-9faa-446a-865a-b24e5f35e3b6",
   "metadata": {},
   "outputs": [],
   "source": [
    "import matplotlib.pyplot as plt\n",
    "from wordcloud import WordCloud\n",
    "\n",
    "def wordcloud_topic_model_summary(model, feature_names, no_top_words, prefix):\n",
    "    for topic_idx, topic in enumerate(model.components_):\n",
    "        freq = {}\n",
    "        for i in topic.argsort()[:-no_top_words - 1:-1]:\n",
    "            val = int(100000.0 * topic[i])\n",
    "            freq[feature_names[i].replace(\" \", \"_\")] = val+1\n",
    "        wc = WordCloud(background_color=\"white\", max_words=100, width=960, height=540)\n",
    "        wc.generate_from_frequencies(freq)\n",
    "        plt.figure(figsize=(12,12))\n",
    "        plt.imshow(wc, interpolation='bilinear')\n",
    "        plt.axis(\"off\");\n",
    "        plt.savefig(\"%s-%02d.png\" % (prefix, topic_idx))\n",
    "        plt.close()\n",
    "            \n",
    "def show_topic_model_stat(nmf, tfidf_vectors, feature_names):\n",
    "    res = []\n",
    "    v = nmf.transform(tfidf_vectors)\n",
    "    topic_sizes = v.sum(axis=0)\n",
    "    topic_total = topic_sizes.sum()\n",
    "    df = pd.DataFrame()\n",
    "    for t in range(0, nmf.n_components):\n",
    "        first_index = nmf.components_[t].argsort()[-1]\n",
    "        res.append([\"TOPIC %s (%02d)\" % (feature_names[first_index], t), topic_sizes[t]/topic_total, None, 1.0])\n",
    "        #print(\"\\nTOPIC %s (%02d)\\t%2.2f%%\\t\\t100%%\" % (feature_names[first_index], t, topic_sizes[t]/topic_total*100.0))\n",
    "        # personen indizes in topic 0 aufsteigend sortiert\n",
    "        for i in nmf.components_[t].argsort()[-30:][::-1]:\n",
    "            #print(\"TOPIC %s (%02d)\\t%2.2f%%\\t%s\\t%2.2f%%\" % (feature_names[first_index], t, topic_sizes[t]/topic_total*100.0, feature_names[i], 100.0*nmf.components_[t, i]/sum(nmf.components_[t, :])))    \n",
    "            res.append([\"TOPIC %s (%02d)\" % (feature_names[first_index], t), \n",
    "                        topic_sizes[t]/topic_total, feature_names[i], \n",
    "                        nmf.components_[t, i]/sum(nmf.components_[t, :])])\n",
    "    return pd.DataFrame(res)"
   ]
  },
  {
   "cell_type": "code",
   "execution_count": null,
   "id": "e2053de9-01e6-495a-a789-ee79243155e9",
   "metadata": {},
   "outputs": [],
   "source": [
    "#df[\"text\"] = df[\"lemmas\"].map(lambda x: \" \".join(x))\n",
    "#df[\"text\"] = df[\"text\"].str.replace(\"datum\", \"data\", case=False)"
   ]
  },
  {
   "cell_type": "code",
   "execution_count": 13,
   "id": "e06683dc-be27-4245-a788-445d857533ae",
   "metadata": {},
   "outputs": [],
   "source": [
    "for w in \"\"\"appreciation appreciate birthday breastcancer comment community day didn discussion \n",
    " don feel forum glad goes good happy https know like luck mods new org post posting sharing \n",
    " thank thanks think thread today tomorrow ve welcome wishes www year yesterday got went want going\n",
    " ll walking wednesday ruth karen said\"\"\".split(\" \"):\n",
    "    stopwords.add(w)"
   ]
  },
  {
   "cell_type": "code",
   "execution_count": 14,
   "id": "9154769a-698a-43f7-9417-51f7d60a2b5a",
   "metadata": {},
   "outputs": [
    {
     "name": "stderr",
     "output_type": "stream",
     "text": [
      "/home/cwinkler/.venv/jupyter/lib/python3.10/site-packages/sklearn/feature_extraction/text.py:408: UserWarning: Your stop_words may be inconsistent with your preprocessing. Tokenizing the stop words generated tokens ['going'] not in stop_words.\n",
      "  warnings.warn(\n"
     ]
    }
   ],
   "source": [
    "from sklearn.feature_extraction.text import TfidfVectorizer\n",
    "tfidf = TfidfVectorizer(stop_words=list(stopwords), ngram_range=(1,1), min_df=20, max_df=0.7)\n",
    "tfidf_vectors = tfidf.fit_transform(df[\"text\"])"
   ]
  },
  {
   "cell_type": "code",
   "execution_count": 15,
   "id": "41a1ab1d-0700-4dba-8844-40f6c6f85687",
   "metadata": {},
   "outputs": [
    {
     "name": "stderr",
     "output_type": "stream",
     "text": [
      "/home/cwinkler/.venv/jupyter/lib/python3.10/site-packages/sklearn/decomposition/_nmf.py:1710: ConvergenceWarning: Maximum number of iterations 200 reached. Increase it to improve convergence.\n",
      "  warnings.warn(\n"
     ]
    }
   ],
   "source": [
    "from sklearn.decomposition import NMF, LatentDirichletAllocation\n",
    "\n",
    "for no_topics in [6, 12, 24]:\n",
    "    nmf = NMF(n_components=no_topics, random_state=1, l1_ratio=.5, \\\n",
    "              init='nndsvd').fit(tfidf_vectors)\n",
    "    wordcloud_topic_model_summary(nmf, tfidf.get_feature_names_out(), 40, \"breastcancer-%02d\" % no_topics)\n",
    "    res = show_topic_model_stat(nmf, tfidf_vectors, tfidf.get_feature_names_out())\n",
    "    res.set_index(0).to_excel(\"breastcancer-%02d.xlsx\" % no_topics)"
   ]
  },
  {
   "cell_type": "code",
   "execution_count": null,
   "id": "18bf8e65-b68d-4933-a328-7ab0dbcb3932",
   "metadata": {},
   "outputs": [],
   "source": []
  }
 ],
 "metadata": {
  "kernelspec": {
   "display_name": "Python 3 (ipykernel)",
   "language": "python",
   "name": "python3"
  },
  "language_info": {
   "codemirror_mode": {
    "name": "ipython",
    "version": 3
   },
   "file_extension": ".py",
   "mimetype": "text/x-python",
   "name": "python",
   "nbconvert_exporter": "python",
   "pygments_lexer": "ipython3",
   "version": "3.10.12"
  }
 },
 "nbformat": 4,
 "nbformat_minor": 5
}
